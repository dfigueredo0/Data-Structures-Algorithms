{
 "cells": [
  {
   "cell_type": "markdown",
   "id": "9676597c",
   "metadata": {},
   "source": [
    "## Assignment 4 (20 marks)\n",
    "\n",
    "### Deadline: 10/11 11:59 pm"
   ]
  },
  {
   "cell_type": "markdown",
   "id": "3eab5609",
   "metadata": {},
   "source": [
    "### Super Digit using Recursion (5 marks)\n",
    "\n",
    "The \"super digit\" of a (base 10) number *N* is defined as follows:\n",
    "- if the number consists of a single digit, it is simply *N*\n",
    "- otherwise, it is the super digit of the sum of the digits of *N*\n",
    "\n",
    "Examples:\n",
    "- the super digit of 7 is 7\n",
    "- the super digit of 42 is the super digit of 4+2=6, which is 6\n",
    "- the super digit of 9877 is the super digit of 9+8+7+7=31, which is the super digit of 3+1=4, which is 4\n",
    "\n",
    "Implement the recursive function `super_digit(n)`, which returns the super digit of its argument `n`.\n",
    "\n",
    "**Test case:**\n",
    "\n",
    "`num = 12345\n",
    "result = super_digit(num)\n",
    "print(result)\n",
    "6`"
   ]
  },
  {
   "cell_type": "markdown",
   "id": "d4ed2e9b",
   "metadata": {},
   "source": [
    "### Linked-list Operations using Recursion (10 marks)\n",
    "\n",
    "Given the following Class `Node` and Function `newNode`, write the two functions `insertEnd` and `traverse` using recursion. `insertEnd` appends a new node to the end of the linked list and `traverse` travels through all the nodes and prints it out.\n",
    "\n",
    "**Test Case:**\n",
    "\n",
    "`node = None\n",
    "node = insertEnd(node, 6)\n",
    "node = insertEnd(node, 8)\n",
    "node = insertEnd(node, 10)\n",
    "node = insertEnd(node, 12)\n",
    "node = insertEnd(node, 14)\n",
    "traverse(node)\n",
    "6 8 10 12 14`"
   ]
  },
  {
   "cell_type": "code",
   "execution_count": 2,
   "id": "5e881ffb",
   "metadata": {},
   "outputs": [
    {
     "name": "stdout",
     "output_type": "stream",
     "text": [
      "6 8 10 12 14 "
     ]
    }
   ],
   "source": [
    "class Node: \n",
    "    def __init__(self, data): \n",
    "        self.data = data \n",
    "        self.next = None\n",
    "\n",
    "def newNode(data):\n",
    "    new_node = Node(data)\n",
    "    new_node.data = data\n",
    "    new_node.next = None\n",
    "    return new_node\n",
    " \n",
    "def insertEnd(node, data): #opposite of delete func in slide 7    \n",
    "    if node is None:\n",
    "        return Node(data)\n",
    "    else:\n",
    "        node.next = insertEnd(node.next, data)\n",
    "        return node \n",
    "\n",
    "def traverse(node): #essentially print list\n",
    "    if node is None:\n",
    "        return\n",
    "    else:\n",
    "        print(node.data, end=' ')\n",
    "        traverse(node.next)"
   ]
  },
  {
   "cell_type": "markdown",
   "id": "eced67bb",
   "metadata": {},
   "source": [
    "### Time Complexity Analysis (5 marks)\n",
    "\n",
    "Look at the recursive codeblock and write out the function `T(n)` that captures the time complexity of `func()`. You only need to write the equation which captures the time complexity and the final value in terms of big-O. You do not have to show the step-by-step calculation.\n",
    "\n",
    "For example, if this question was about `MergeSort`, your answer would look like the following. So just write the first equation and the final result that comes from solving it.\n",
    "\n",
    "`T(n) = 2T(n/2) + n`\n",
    "     \n",
    "`T(n) = O(n log n)`"
   ]
  },
  {
   "cell_type": "code",
   "execution_count": 7,
   "id": "298efb61",
   "metadata": {},
   "outputs": [
    {
     "name": "stdout",
     "output_type": "stream",
     "text": [
      "0\n",
      "1\n",
      "4\n",
      "10\n",
      "20\n",
      "35\n",
      "56\n",
      "84\n",
      "120\n",
      "165\n",
      "220\n",
      "286\n",
      "364\n",
      "455\n"
     ]
    }
   ],
   "source": [
    "def func(n):\n",
    "    m = 0\n",
    "    if n == 1:\n",
    "        return 0\n",
    "    for i in range(n):\n",
    "        m += i \n",
    "    return m + func(n-1) \n",
    "    \n",
    "for x in range(1,15):\n",
    "    print(func(x))"
   ]
  },
  {
   "cell_type": "markdown",
   "id": "c8025a73",
   "metadata": {},
   "source": [
    "#### Solution:\n",
    "\n",
    "`T(n) = T(n-1) + O(n)`\n",
    "     \n",
    "`T(n) = O(n^2)`"
   ]
  },
  {
   "cell_type": "markdown",
   "id": "32d18046",
   "metadata": {},
   "source": [
    "### Reminders\n",
    "1. Download the Assignment_4.ipynb file and you can start coding inside that file.\n",
    "2. Remember before your final submission, rename your submission by adding your surname at the front such that it becomes Surname_Assignment_4.ipynb."
   ]
  },
  {
   "cell_type": "code",
   "execution_count": 5,
   "id": "f59f1648-aaf7-4e47-a85a-e2c8d4094eed",
   "metadata": {},
   "outputs": [],
   "source": [
    "def super_digit(n):\n",
    "    if n < 10:\n",
    "        return n\n",
    "    digit_sum = 0\n",
    "    while n > 0:\n",
    "        digit_sum += n % 10\n",
    "        n //= 10\n",
    "    return super_digit(digit_sum)"
   ]
  }
 ],
 "metadata": {
  "kernelspec": {
   "display_name": "Python 3 (ipykernel)",
   "language": "python",
   "name": "python3"
  },
  "language_info": {
   "codemirror_mode": {
    "name": "ipython",
    "version": 3
   },
   "file_extension": ".py",
   "mimetype": "text/x-python",
   "name": "python",
   "nbconvert_exporter": "python",
   "pygments_lexer": "ipython3",
   "version": "3.11.4"
  }
 },
 "nbformat": 4,
 "nbformat_minor": 5
}

{
 "cells": [
  {
   "cell_type": "markdown",
   "metadata": {
    "state": "normal"
   },
   "source": [
    "# Linked Lists\n",
    "\n",
    "## Agenda\n",
    "\n",
    "1. The `LinkedList` and `Node` classes  \n",
    "2. Implementing `prepend` and `append`\n",
    "3. Implementing `delete`\n",
    "4. Search\n",
    "5. Run-time analysis"
   ]
  },
  {
   "cell_type": "markdown",
   "metadata": {
    "state": "normal"
   },
   "source": [
    "## 1. The `LinkedList` and `Node` classes"
   ]
  },
  {
   "cell_type": "code",
   "execution_count": null,
   "metadata": {
    "state": "normal"
   },
   "outputs": [],
   "source": [
    "class Node:\n",
    "    def __init__(self, val):\n",
    "        self.val = val\n",
    "        self.next = None\n",
    "\n",
    "class LinkedList: \n",
    "    def __init__(self):\n",
    "        self.head = None\n",
    "    \n",
    "    def prepend(self, val):\n",
    "        pass\n",
    "        \n",
    "    def append(self, val):\n",
    "        pass\n",
    "        \n",
    "    def delete(self, position):     \n",
    "        pass\n",
    "    \n",
    "    def printlist(self):\n",
    "        temp = self.head\n",
    "        if(temp != None):\n",
    "            while (temp != None):\n",
    "                print(temp.val, end=\" \") ## end prevents a newline after print()\n",
    "                temp = temp.next\n",
    "            print()\n",
    "        else:\n",
    "            print(\"The list is empty\")"
   ]
  },
  {
   "cell_type": "code",
   "execution_count": null,
   "metadata": {},
   "outputs": [],
   "source": [
    "lst = LinkedList()\n",
    "lst.printlist()"
   ]
  },
  {
   "cell_type": "markdown",
   "metadata": {},
   "source": [
    "## 2. Implementing `prepend` and `append`"
   ]
  },
  {
   "cell_type": "code",
   "execution_count": null,
   "metadata": {
    "state": "normal"
   },
   "outputs": [],
   "source": [
    "class Node:\n",
    "    def __init__(self, val):\n",
    "        self.val = val\n",
    "        self.next = None\n",
    "\n",
    "class LinkedList: \n",
    "    def __init__(self):\n",
    "        self.head = None\n",
    "    \n",
    "    def prepend(self, val):\n",
    "        newNode = Node(val)\n",
    "        newNode.next = self.head\n",
    "        self.head = newNode\n",
    "        \n",
    "    def append(self, val):\n",
    "        newNode = Node(val)\n",
    "        if(self.head == None):\n",
    "            self.head = newNode\n",
    "            return\n",
    "        else:\n",
    "            temp = self.head\n",
    "            while(temp.next != None):\n",
    "                temp = temp.next\n",
    "            temp.next = newNode\n",
    "        \n",
    "    def delete(self, position):     \n",
    "        pass\n",
    "    \n",
    "    def printlist(self):\n",
    "        temp = self.head\n",
    "        if(temp != None):\n",
    "            while (temp != None):\n",
    "                print(temp.val, end=\" \")\n",
    "                temp = temp.next\n",
    "            print()\n",
    "        else:\n",
    "            print(\"The list is empty\")"
   ]
  },
  {
   "cell_type": "code",
   "execution_count": null,
   "metadata": {
    "state": "normal"
   },
   "outputs": [],
   "source": [
    "lst = LinkedList()\n",
    "for i in range(10):\n",
    "    lst.prepend(i)\n",
    "lst.printlist()"
   ]
  },
  {
   "cell_type": "code",
   "execution_count": null,
   "metadata": {
    "state": "normal"
   },
   "outputs": [],
   "source": [
    "for i in range(10):\n",
    "    lst.append(i)\n",
    "lst.printlist()"
   ]
  },
  {
   "cell_type": "markdown",
   "metadata": {},
   "source": [
    "## 3. Implementing `delete`"
   ]
  },
  {
   "cell_type": "code",
   "execution_count": null,
   "metadata": {
    "state": "normal"
   },
   "outputs": [],
   "source": [
    "class Node:\n",
    "    def __init__(self, val):\n",
    "        self.val = val\n",
    "        self.next = None\n",
    "\n",
    "class LinkedList: \n",
    "    def __init__(self):\n",
    "        self.head = None\n",
    "    \n",
    "    def prepend(self, val):\n",
    "        newNode = Node(val)\n",
    "        newNode.next = self.head\n",
    "        self.head = newNode\n",
    "        \n",
    "    def append(self, val):\n",
    "        newNode = Node(val)\n",
    "        if(self.head == None):\n",
    "            self.head = newNode\n",
    "            return\n",
    "        else:\n",
    "            temp = self.head\n",
    "            while(temp.next != None):\n",
    "                temp = temp.next\n",
    "            temp.next = newNode\n",
    "        \n",
    "    def delete(self, position):     \n",
    "        if(position < 1):\n",
    "            print(\"Position should be >= 1\")\n",
    "        elif (position == 1 and self.head != None):\n",
    "            nodeToDelete = self.head\n",
    "            self.head = self.head.next\n",
    "            nodeToDelete = None\n",
    "        else:    \n",
    "            temp = self.head\n",
    "            for i in range(1, position-1):\n",
    "                if(temp != None):\n",
    "                    temp = temp.next   \n",
    "            if(temp != None and temp.next != None):\n",
    "                nodeToDelete = temp.next\n",
    "                temp.next = temp.next.next\n",
    "                nodeToDelete = None\n",
    "            else:\n",
    "                print(\"The node is already null\") \n",
    "    \n",
    "    def printlist(self):\n",
    "        temp = self.head\n",
    "        if(temp != None):\n",
    "            while (temp != None):\n",
    "                print(temp.val, end=\" \")\n",
    "                temp = temp.next\n",
    "            print()\n",
    "        else:\n",
    "            print(\"The list is empty\")"
   ]
  },
  {
   "cell_type": "code",
   "execution_count": null,
   "metadata": {},
   "outputs": [],
   "source": [
    "lst = LinkedList()\n",
    "\n",
    "lst.append(1)\n",
    "lst.append(2)\n",
    "lst.append(3)\n",
    "lst.append(4)\n",
    "lst.append(5)\n",
    "\n",
    "lst.delete(1)\n",
    "lst.printlist()"
   ]
  },
  {
   "cell_type": "markdown",
   "metadata": {},
   "source": [
    "## 5. Search?"
   ]
  },
  {
   "cell_type": "markdown",
   "metadata": {},
   "source": [
    "Linear search with $O(N)$ is the only option when the list is unsorted, but we previously implemented binary search, which runs in $O(\\log N)$ time given a sorted list as input.\n",
    "\n",
    "Does this extend to linked lists?"
   ]
  },
  {
   "cell_type": "markdown",
   "metadata": {
    "state": "normal"
   },
   "source": [
    "## 6. Runtime analysis"
   ]
  },
  {
   "cell_type": "markdown",
   "metadata": {
    "state": "normal"
   },
   "source": [
    "Runtime complexities for linked list of $N$ elements:\n",
    "\n",
    "- Indexing = $O(?)$\n",
    "- Search = $O(?)$\n",
    "- Prepend = $O(?)$\n",
    "- Append = $O(?)$\n",
    "- Insertion (at arbitrary position) = $O(?)$\n",
    "- Deletion (at arbitrary position) = $O(?)$"
   ]
  }
 ],
 "metadata": {
  "kernelspec": {
   "display_name": "Python 3 (ipykernel)",
   "language": "python",
   "name": "python3"
  },
  "language_info": {
   "codemirror_mode": {
    "name": "ipython",
    "version": 3
   },
   "file_extension": ".py",
   "mimetype": "text/x-python",
   "name": "python",
   "nbconvert_exporter": "python",
   "pygments_lexer": "ipython3",
   "version": "3.8.5"
  },
  "mimir": {
   "data": {},
   "last_submission_id": "",
   "project_id": "41bee725-65ca-4c92-94b2-996780a0138c"
  },
  "varInspector": {
   "cols": {
    "lenName": 16,
    "lenType": 16,
    "lenVar": 40
   },
   "kernels_config": {
    "python": {
     "delete_cmd_postfix": "",
     "delete_cmd_prefix": "del ",
     "library": "var_list.py",
     "varRefreshCmd": "print(var_dic_list())"
    },
    "r": {
     "delete_cmd_postfix": ") ",
     "delete_cmd_prefix": "rm(",
     "library": "var_list.r",
     "varRefreshCmd": "cat(var_dic_list()) "
    }
   },
   "types_to_exclude": [
    "module",
    "function",
    "builtin_function_or_method",
    "instance",
    "_Feature"
   ],
   "window_display": false
  }
 },
 "nbformat": 4,
 "nbformat_minor": 4
}

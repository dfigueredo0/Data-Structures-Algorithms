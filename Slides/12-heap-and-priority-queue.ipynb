{
 "cells": [
  {
   "cell_type": "markdown",
   "metadata": {
    "state": "normal"
   },
   "source": [
    "# Priority Queue\n",
    "\n",
    "## Agenda\n",
    "\n",
    "1. Heap\n",
    "2. HeapSort\n",
    "3. Priority Queue"
   ]
  },
  {
   "cell_type": "markdown",
   "metadata": {
    "state": "normal"
   },
   "source": [
    "## 1. Heap"
   ]
  },
  {
   "cell_type": "code",
   "execution_count": null,
   "metadata": {},
   "outputs": [],
   "source": [
    "class Heap:        \n",
    "    def _parent(idx):\n",
    "        return (idx - 1) // 2\n",
    "    \n",
    "    def _left(idx):\n",
    "        return idx*2 + 1\n",
    "\n",
    "    def _right(idx):\n",
    "        return idx*2 + 2\n",
    "\n",
    "    def __init__(self, iterable=None):\n",
    "        if not iterable:\n",
    "            self.data = []\n",
    "        else:\n",
    "            self.data = list(iterable)\n",
    "            last_internal_idx = Heap._parent(len(self.data)-1)\n",
    "            for i in range(last_internal_idx, -1, -1):\n",
    "                self._heapify(i)\n",
    "\n",
    "    def add(self, x):\n",
    "        self.data.append(x)\n",
    "        idx = len(self.data) - 1\n",
    "        while idx > 0:\n",
    "            pidx = Heap._parent(idx)\n",
    "            if self.data[pidx] < self.data[idx]:\n",
    "                self.data[pidx], self.data[idx] = self.data[idx], self.data[pidx]\n",
    "                idx = pidx\n",
    "            else:\n",
    "                break    \n",
    "                                \n",
    "    def max(self):\n",
    "        assert len(self) > 0  # if condition returns True, then nothing happens, else, AssertionError is raised\n",
    "        return self.data[0]\n",
    "\n",
    "    def _heapify(self, idx):\n",
    "        while idx < len(self.data):\n",
    "            lidx = Heap._left(idx)\n",
    "            ridx = Heap._right(idx)\n",
    "            maxidx = idx\n",
    "            if lidx < len(self.data) and self.data[lidx] > self.data[idx]:\n",
    "                maxidx = lidx\n",
    "            if ridx < len(self.data) and self.data[ridx] > self.data[maxidx]:\n",
    "                maxidx = ridx\n",
    "            if maxidx != idx:\n",
    "                self.data[idx], self.data[maxidx] = self.data[maxidx], self.data[idx]\n",
    "                idx = maxidx\n",
    "            else:\n",
    "                break\n",
    "\n",
    "    def pop_max(self):\n",
    "        assert len(self) > 0\n",
    "        ret = self.data[0]\n",
    "        self.data[0] = self.data[-1]\n",
    "        del self.data[-1]\n",
    "        self._heapify(0)\n",
    "        return ret        \n",
    "    \n",
    "    def __bool__(self):\n",
    "        return len(self.data) > 0\n",
    "\n",
    "    def __len__(self):\n",
    "        return len(self.data)\n",
    "\n",
    "    def __repr__(self):\n",
    "        return repr(self.data)"
   ]
  },
  {
   "cell_type": "code",
   "execution_count": null,
   "metadata": {},
   "outputs": [],
   "source": [
    "import random\n",
    "\n",
    "h = Heap()\n",
    "\n",
    "vals = random.sample(range(100), 6) # ensure unique values\n",
    "for x in vals:\n",
    "    h.add(x)\n",
    "\n",
    "print(vals)\n",
    "print(h)"
   ]
  },
  {
   "cell_type": "code",
   "execution_count": null,
   "metadata": {},
   "outputs": [],
   "source": [
    "h.max()"
   ]
  },
  {
   "cell_type": "code",
   "execution_count": null,
   "metadata": {},
   "outputs": [],
   "source": [
    "while h:\n",
    "    print(h.pop_max())"
   ]
  },
  {
   "cell_type": "code",
   "execution_count": null,
   "metadata": {},
   "outputs": [],
   "source": [
    "h.max()"
   ]
  },
  {
   "cell_type": "markdown",
   "metadata": {
    "state": "normal"
   },
   "source": [
    "## 2. HeapSort"
   ]
  },
  {
   "cell_type": "code",
   "execution_count": null,
   "metadata": {},
   "outputs": [],
   "source": [
    "def heapsort(iterable):\n",
    "    h = Heap(iterable)\n",
    "    sort = []\n",
    "    while h:\n",
    "        sort.append(h.pop_max())\n",
    "    sort.reverse()\n",
    "    return sort"
   ]
  },
  {
   "cell_type": "code",
   "execution_count": null,
   "metadata": {},
   "outputs": [],
   "source": [
    "arr = [87, 82, 76, 57, 70]\n",
    "heapsort(arr)"
   ]
  },
  {
   "cell_type": "code",
   "execution_count": null,
   "metadata": {},
   "outputs": [],
   "source": [
    "import timeit\n",
    "import numpy as np\n",
    "import matplotlib.pyplot as plt\n",
    "\n",
    "def time_heapsort(n):\n",
    "    return timeit.timeit('heapsort(lst)',\n",
    "                         f'lst = random.sample(range(100000), {n})',\n",
    "                         globals=globals(),\n",
    "                         number=1)\n",
    "ns = np.linspace(100, 10000, 50, dtype=np.int32)\n",
    "plt.plot(ns, [time_heapsort(n) for n in ns], 'b.');"
   ]
  },
  {
   "cell_type": "markdown",
   "metadata": {},
   "source": [
    "## 3. Priority Queue\n",
    "\n",
    "The priority queue ADT is similar to a queue, in that values are conceptually added to one end and taken out another. Values are not dequeued from a priority queue in FIFO order, however. Instead, each value in a priority queue has an implicit \"priority\", and the *value with maximum priority is always dequeued first*, regardless of when it was enqueued. "
   ]
  },
  {
   "cell_type": "code",
   "execution_count": null,
   "metadata": {},
   "outputs": [],
   "source": [
    "import heapq  # uses min-heap property\n",
    "\n",
    "pq = []\n",
    "vals = random.sample(range(100), 5)\n",
    "for i in range(len(vals)):\n",
    "    heapq.heappush(pq,vals[i])\n",
    "\n",
    "print(vals)\n",
    "pq\n",
    "\n",
    "# max-heap implementation\n",
    "# pq = [x * -1 for x in pq]\n",
    "# pq"
   ]
  },
  {
   "cell_type": "code",
   "execution_count": null,
   "metadata": {},
   "outputs": [],
   "source": [
    "heapq.heappop(pq)"
   ]
  },
  {
   "cell_type": "code",
   "execution_count": null,
   "metadata": {},
   "outputs": [],
   "source": [
    "pq"
   ]
  }
 ],
 "metadata": {
  "kernelspec": {
   "display_name": "Python 3 (ipykernel)",
   "language": "python",
   "name": "python3"
  },
  "language_info": {
   "codemirror_mode": {
    "name": "ipython",
    "version": 3
   },
   "file_extension": ".py",
   "mimetype": "text/x-python",
   "name": "python",
   "nbconvert_exporter": "python",
   "pygments_lexer": "ipython3",
   "version": "3.8.5"
  },
  "mimir": {
   "data": {},
   "last_submission_id": "",
   "project_id": "cd081cc2-3118-4acf-abe4-cfe5215cf9e7"
  },
  "toc-autonumbering": false,
  "toc-showcode": true,
  "toc-showmarkdowntxt": false,
  "varInspector": {
   "cols": {
    "lenName": 16,
    "lenType": 16,
    "lenVar": 40
   },
   "kernels_config": {
    "python": {
     "delete_cmd_postfix": "",
     "delete_cmd_prefix": "del ",
     "library": "var_list.py",
     "varRefreshCmd": "print(var_dic_list())"
    },
    "r": {
     "delete_cmd_postfix": ") ",
     "delete_cmd_prefix": "rm(",
     "library": "var_list.r",
     "varRefreshCmd": "cat(var_dic_list()) "
    }
   },
   "types_to_exclude": [
    "module",
    "function",
    "builtin_function_or_method",
    "instance",
    "_Feature"
   ],
   "window_display": false
  }
 },
 "nbformat": 4,
 "nbformat_minor": 4
}

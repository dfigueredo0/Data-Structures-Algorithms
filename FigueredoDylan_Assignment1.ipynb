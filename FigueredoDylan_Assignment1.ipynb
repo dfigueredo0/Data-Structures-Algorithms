{
 "cells": [
  {
   "cell_type": "markdown",
   "id": "f12fd8fa-bb96-4e86-8152-6b379ebc9a51",
   "metadata": {},
   "source": [
    "## Assignment 1 (10 marks)\n",
    "\n",
    "### Deadline: 09/04 2:00 pm\n",
    "\n",
    "#### Designing a calculator\n",
    "\n",
    "Create a class named _Calculator_. This class should have functions which are capable to performing the four basic floating point operations (addition, multiplication, division, subtraction). Each of these 4 operations must be represented using 4 distinct functions located inside your class. **Do not forget to also use the \\_\\_init\\_\\_ method**.\n",
    "\n",
    "After you create the class, use Python's **input()** method to allow an user to input 3 values. The first two inputs shall be the two numbers and the third input should be the operation that you want to perform on those two numbers (add, mul, div or sub). Once the user puts in all these 3 inputs, your code should output the relevant operation output.\n",
    "\n",
    "For example, if the user inputs are **(1, 2, add)** then the output should be **3**. Be also mindful to think about the edge cases, what can happen if there is an invalid input."
   ]
  },
  {
   "cell_type": "code",
   "execution_count": 4,
   "id": "c77f867e-d426-4fe2-ad30-a3b64727eb09",
   "metadata": {},
   "outputs": [],
   "source": [
    "class Calculator:\n",
    "    def _init_(self):\n",
    "        pass\n",
    "    def add(self, num1, num2):\n",
    "        return num1 + num2\n",
    "    def substract(self, num1, num2):\n",
    "        return num1 - num2\n",
    "    def multiply(self, num1, num2):\n",
    "        return num1 * num2\n",
    "    def divide(self, num1, num2):\n",
    "        if (num2 == 0):\n",
    "            return \"Cannot divide by 0\"\n",
    "        return num1 / num2\n",
    "    def perform_operation(self, num1, nunm2, operator):\n",
    "        match operator:\n",
    "            case \"add\":\n",
    "                result = self.add(num1, num2)\n",
    "            case \"substract\":\n",
    "                result = self.substract(num1,num2)\n",
    "            case \"multiply\":\n",
    "                result = self.multiply(num1,num2)\n",
    "            case \"divide\":\n",
    "                result = self.divide(num1,num2)\n",
    "            case _:\n",
    "                print(\"Invalid Input\")\n",
    "        return result"
   ]
  },
  {
   "cell_type": "code",
   "execution_count": 5,
   "id": "355d55b2-33b3-4c2e-802f-4cd462d1abb8",
   "metadata": {},
   "outputs": [
    {
     "name": "stdout",
     "output_type": "stream",
     "text": [
      "Enter the first number:  20\n",
      "Enter the second number:  30\n",
      "Enter the operation (add, subtract, multiply, divide):  substract\n"
     ]
    },
    {
     "name": "stdout",
     "output_type": "stream",
     "text": [
      "Result: -10.0\n"
     ]
    }
   ],
   "source": [
    "try:\n",
    "    num1 = float(input(\"Enter the first number: \"))\n",
    "    num2 = float(input(\"Enter the second number: \"))\n",
    "    operation = input(\"Enter the operation (add, subtract, multiply, divide): \").strip().lower()\n",
    "\n",
    "    calculator = Calculator()\n",
    "    result = calculator.perform_operation(num1, num2, operation)\n",
    "\n",
    "    print(f\"Result: {result}\")\n",
    "\n",
    "except ValueError:\n",
    "    print(\"Invalid input. Please enter valid numbers.\")\n",
    "except Exception as e:\n",
    "    print(f\"An error occurred: {str(e)}\")"
   ]
  },
  {
   "cell_type": "code",
   "execution_count": null,
   "id": "9e7aaa46-9c30-4ec2-bee0-29275abae903",
   "metadata": {},
   "outputs": [],
   "source": []
  }
 ],
 "metadata": {
  "kernelspec": {
   "display_name": "Python 3 (ipykernel)",
   "language": "python",
   "name": "python3"
  },
  "language_info": {
   "codemirror_mode": {
    "name": "ipython",
    "version": 3
   },
   "file_extension": ".py",
   "mimetype": "text/x-python",
   "name": "python",
   "nbconvert_exporter": "python",
   "pygments_lexer": "ipython3",
   "version": "3.11.4"
  }
 },
 "nbformat": 4,
 "nbformat_minor": 5
}

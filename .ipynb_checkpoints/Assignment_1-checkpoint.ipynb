{
 "cells": [
  {
   "cell_type": "markdown",
   "id": "5e6e4c6a",
   "metadata": {},
   "source": [
    "## Assignment 1 (10 marks)\n",
    "\n",
    "### Deadline: 09/04 2:00 pm\n",
    "\n",
    "#### Designing a calculator\n",
    "\n",
    "Create a class named _Calculator_. This class should have functions which are capable to performing the four basic floating point operations (addition, multiplication, division, subtraction). Each of these 4 operations must be represented using 4 distinct functions located inside your class. **Do not forget to also use the \\_\\_init\\_\\_ method**.\n",
    "\n",
    "After you create the class, use Python's **input()** method to allow an user to input 3 values. The first two inputs shall be the two numbers and the third input should be the operation that you want to perform on those two numbers (add, mul, div or sub). Once the user puts in all these 3 inputs, your code should output the relevant operation output.\n",
    "\n",
    "For example, if the user inputs are **(1, 2, add)** then the output should be **3**. Be also mindful to think about the edge cases, what can happen if there is an invalid input."
   ]
  },
  {
   "cell_type": "code",
   "execution_count": null,
   "id": "f757e1d7",
   "metadata": {},
   "outputs": [],
   "source": []
  }
 ],
 "metadata": {
  "kernelspec": {
   "display_name": "Python 3 (ipykernel)",
   "language": "python",
   "name": "python3"
  },
  "language_info": {
   "codemirror_mode": {
    "name": "ipython",
    "version": 3
   },
   "file_extension": ".py",
   "mimetype": "text/x-python",
   "name": "python",
   "nbconvert_exporter": "python",
   "pygments_lexer": "ipython3",
   "version": "3.11.4"
  }
 },
 "nbformat": 4,
 "nbformat_minor": 5
}

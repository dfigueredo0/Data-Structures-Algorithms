{
 "cells": [
  {
   "cell_type": "markdown",
   "metadata": {},
   "source": [
    "# Python Language Intro (Part 1)"
   ]
  },
  {
   "cell_type": "markdown",
   "metadata": {},
   "source": [
    "## Agenda\n",
    "\n",
    "1. White space sensitivity\n",
    "2. Basic Types and Operations\n",
    "3. Statements & Control Structures\n",
    "4. Functions\n",
    "5. OOP (Classes, Methods, etc.)\n",
    "6. Immutable Sequence Types (Strings, Ranges, Tuples)\n",
    "7. Mutable data structures: Lists, Sets, Dictionaries"
   ]
  },
  {
   "cell_type": "markdown",
   "metadata": {},
   "source": [
    "## 1. White Space Sensitivity"
   ]
  },
  {
   "cell_type": "markdown",
   "metadata": {},
   "source": [
    "Python has no beginning/end block markers! Blocks must be correctly indented (4 spaces is the convention) to delineate them."
   ]
  },
  {
   "cell_type": "code",
   "execution_count": null,
   "metadata": {},
   "outputs": [],
   "source": [
    "if True:\n",
    "    print('In if-clause')\n",
    "else:\n",
    "    print('In else-clause')"
   ]
  },
  {
   "cell_type": "code",
   "execution_count": null,
   "metadata": {},
   "outputs": [],
   "source": [
    "for x in range(5):\n",
    "    print('In for loop body')"
   ]
  },
  {
   "cell_type": "code",
   "execution_count": null,
   "metadata": {},
   "outputs": [],
   "source": [
    "def func():\n",
    "    print('In function definition')"
   ]
  },
  {
   "cell_type": "markdown",
   "metadata": {},
   "source": [
    "## 2. Basic Types and Operations"
   ]
  },
  {
   "cell_type": "markdown",
   "metadata": {},
   "source": [
    "In Python, variables do not have types. *Values* have types (though they are not explicitly declared). A variable can be assigned different types of values over its lifetime."
   ]
  },
  {
   "cell_type": "code",
   "execution_count": null,
   "metadata": {},
   "outputs": [],
   "source": [
    "a = 2 # starts out an integer\n",
    "print(type(a)) # the `type` function tells us the type of a value\n",
    "\n",
    "a = 1.5\n",
    "print(type(a))\n",
    "\n",
    "a = 'hello'\n",
    "print(type(a))"
   ]
  },
  {
   "cell_type": "markdown",
   "metadata": {},
   "source": [
    "Note that all the types reported are *classes*. i.e., even types we are accustomed to thinking of as \"primitives\" (e.g., integers in Java) are actually instances of classes. **All values in Python are objects!**\n",
    "\n",
    "There is no dichotomy between \"primitive\" and \"reference\" types in Python. **All variables in Python store references to objects.** "
   ]
  },
  {
   "cell_type": "markdown",
   "metadata": {},
   "source": [
    "### Digression: On Notebook Evaluation"
   ]
  },
  {
   "cell_type": "markdown",
   "metadata": {},
   "source": [
    "Upon running a cell in a notebook, the \"result\" displayed (by default) is the value obtained by evaluating the *last expression* in the cell. If the last construct in a cell is not an expression (e.g., a statement), or the expression evaluates to `None` (more on this later), then no result is shown."
   ]
  },
  {
   "cell_type": "code",
   "execution_count": null,
   "metadata": {},
   "outputs": [],
   "source": [
    "1 + 2"
   ]
  },
  {
   "cell_type": "code",
   "execution_count": null,
   "metadata": {},
   "outputs": [],
   "source": [
    "1 + 2\n",
    "2 * 3"
   ]
  },
  {
   "cell_type": "markdown",
   "metadata": {},
   "source": [
    "*Output* (e.g., produced by `print`) is shown separately from the cell's result. Multiple outputs are all collected together and shown in the same output area for a given cell."
   ]
  },
  {
   "cell_type": "code",
   "execution_count": null,
   "metadata": {},
   "outputs": [],
   "source": [
    "print(1 + 2)\n",
    "print(2 * 3)\n",
    "4 / 5"
   ]
  },
  {
   "cell_type": "markdown",
   "metadata": {},
   "source": [
    "If we'd like to see the result of multiple expressions in a cell, we will often group expressions together in parentheses, which creates an aggregate value known as a *tuple*."
   ]
  },
  {
   "cell_type": "code",
   "execution_count": null,
   "metadata": {},
   "outputs": [],
   "source": [
    "(1+2, 2*3, 4/5)"
   ]
  },
  {
   "cell_type": "code",
   "execution_count": null,
   "metadata": {},
   "outputs": [],
   "source": [
    "(6*7, not True, 'hello' + 'world')"
   ]
  },
  {
   "cell_type": "markdown",
   "metadata": {},
   "source": [
    "### Numbers"
   ]
  },
  {
   "cell_type": "code",
   "execution_count": null,
   "metadata": {},
   "outputs": [],
   "source": [
    "# int: integers, unlimited precision\n",
    "(\n",
    "    1,\n",
    "    500,\n",
    "    -123456789,\n",
    "    6598293784982739874982734\n",
    ")"
   ]
  },
  {
   "cell_type": "code",
   "execution_count": null,
   "metadata": {},
   "outputs": [],
   "source": [
    "# basic operations\n",
    "(\n",
    "    1 + 2,\n",
    "    1 - 2,\n",
    "    2 * 3,\n",
    "    2 * 3 + 2 * 4,\n",
    "    2 / 5,\n",
    "    2 ** 3, # exponentiation\n",
    "    abs(-25)\n",
    ")"
   ]
  },
  {
   "cell_type": "code",
   "execution_count": null,
   "metadata": {},
   "outputs": [],
   "source": [
    "# modulus (remainder) and integer division\n",
    "(\n",
    "    10 % 3,\n",
    "    10 // 3\n",
    ")"
   ]
  },
  {
   "cell_type": "code",
   "execution_count": null,
   "metadata": {},
   "outputs": [],
   "source": [
    "# mixed arithmetic \"widens\" ints to floats\n",
    "(\n",
    "    3 * 2.5,\n",
    "    1 / 0.3\n",
    ")"
   ]
  },
  {
   "cell_type": "markdown",
   "metadata": {},
   "source": [
    "### Booleans"
   ]
  },
  {
   "cell_type": "code",
   "execution_count": null,
   "metadata": {},
   "outputs": [],
   "source": [
    "(\n",
    "    True, \n",
    "    False\n",
    ")"
   ]
  },
  {
   "cell_type": "code",
   "execution_count": null,
   "metadata": {},
   "outputs": [],
   "source": [
    "(\n",
    "    not True,\n",
    "    not False\n",
    ")"
   ]
  },
  {
   "cell_type": "code",
   "execution_count": null,
   "metadata": {},
   "outputs": [],
   "source": [
    "(\n",
    "    True and True,\n",
    "    False and True,\n",
    "    True and False,\n",
    "    False and False\n",
    ")"
   ]
  },
  {
   "cell_type": "code",
   "execution_count": null,
   "metadata": {},
   "outputs": [],
   "source": [
    "(\n",
    "    True or True,\n",
    "    False or True,\n",
    "    True or False,\n",
    "    False or False\n",
    ")"
   ]
  },
  {
   "cell_type": "code",
   "execution_count": null,
   "metadata": {},
   "outputs": [],
   "source": [
    "# relational operators\n",
    "(\n",
    "    1 == 1,\n",
    "    1 != 2,\n",
    "    1 < 2,\n",
    "    1 <= 1,\n",
    "    1 > 0,\n",
    "    1 >= 1,\n",
    "    1.0 == 1,\n",
    "    type(1) == type(1.0)\n",
    ")"
   ]
  },
  {
   "cell_type": "code",
   "execution_count": null,
   "metadata": {},
   "outputs": [],
   "source": [
    "# chained relational operators\n",
    "x = 10\n",
    "y = 20\n",
    "z = 30\n",
    "(\n",
    "    0 <= x < 100,\n",
    "    0 <= x or x > 100,\n",
    "    x < y < z < 40,\n",
    "    x <  y and y < z or z < 40,\n",
    "    x < z > y,\n",
    "    x < z and z > y\n",
    ")"
   ]
  },
  {
   "cell_type": "code",
   "execution_count": null,
   "metadata": {},
   "outputs": [],
   "source": [
    "# object identity (reference) testing\n",
    "x = 1000\n",
    "y = 1000\n",
    "(\n",
    "    x == x,   # value comparison\n",
    "    x is x,   # identity comparison\n",
    "    x == y,\n",
    "    x is y,\n",
    "    id(x) == id(y) # `id` returns the memory address (aka \"identity\") of an object\n",
    ")"
   ]
  },
  {
   "cell_type": "code",
   "execution_count": null,
   "metadata": {},
   "outputs": [],
   "source": [
    "# but Python caches small integers! so ...\n",
    "x = 2\n",
    "y = 2\n",
    "x is y"
   ]
  },
  {
   "cell_type": "markdown",
   "metadata": {},
   "source": [
    "### Strings"
   ]
  },
  {
   "cell_type": "code",
   "execution_count": null,
   "metadata": {},
   "outputs": [],
   "source": [
    "# whatever strings you want\n",
    "(\n",
    "    'hello world!',\n",
    "    \"hello world!\"\n",
    ")"
   ]
  },
  {
   "cell_type": "code",
   "execution_count": null,
   "metadata": {},
   "outputs": [],
   "source": [
    "# convenient for strings with quotes:\n",
    "print('she said, \"how are you?\"')\n",
    "print(\"that's right!\")"
   ]
  },
  {
   "cell_type": "code",
   "execution_count": null,
   "metadata": {},
   "outputs": [],
   "source": [
    "(\n",
    "    'hello' + ' ' + 'world',\n",
    "    'thinking... ' * 3,\n",
    "    '*' * 80\n",
    ")"
   ]
  },
  {
   "cell_type": "markdown",
   "metadata": {},
   "source": [
    "Strings are an example of a *sequence* type, and support the [common sequence operations](https://docs.python.org/3/library/stdtypes.html#common-sequence-operations)."
   ]
  },
  {
   "cell_type": "code",
   "execution_count": null,
   "metadata": {},
   "outputs": [],
   "source": [
    "# indexing\n",
    "greeting = 'how are you'\n",
    "(\n",
    "    greeting[0],\n",
    "    greeting[6],\n",
    "    len(greeting),\n",
    "    greeting[-1]\n",
    ")"
   ]
  },
  {
   "cell_type": "code",
   "execution_count": null,
   "metadata": {},
   "outputs": [],
   "source": [
    "# negative indexes\n",
    "(\n",
    "    greeting[-1], # Pythonic way of accessing the last element!\n",
    "    greeting[-2],\n",
    "    greeting[-len(greeting)]\n",
    ")"
   ]
  },
  {
   "cell_type": "code",
   "execution_count": null,
   "metadata": {},
   "outputs": [],
   "source": [
    "# \"slices\"\n",
    "(\n",
    "    greeting[0:11],\n",
    "    greeting[0:6],\n",
    "    greeting[6:11]\n",
    ")"
   ]
  },
  {
   "cell_type": "code",
   "execution_count": null,
   "metadata": {},
   "outputs": [],
   "source": [
    "# default slice ranges\n",
    "(\n",
    "    greeting[:11],\n",
    "    greeting[5:],\n",
    "    greeting[:]\n",
    ")"
   ]
  },
  {
   "cell_type": "code",
   "execution_count": null,
   "metadata": {},
   "outputs": [],
   "source": [
    "# slice \"steps\"\n",
    "(\n",
    "    greeting[0:11:1],\n",
    "    greeting[::3],\n",
    "    greeting[6:11:2],\n",
    "    greeting[::-1]\n",
    ")"
   ]
  },
  {
   "cell_type": "code",
   "execution_count": null,
   "metadata": {},
   "outputs": [],
   "source": [
    "# other sequence ops\n",
    "(\n",
    "    greeting.count('o'),\n",
    "    greeting.index('o'),\n",
    "    greeting.index('o', 2),\n",
    "    'o' in greeting,\n",
    "    'w' not in greeting,\n",
    "    min(greeting),\n",
    "    max(greeting)\n",
    ")"
   ]
  },
  {
   "cell_type": "markdown",
   "metadata": {},
   "source": [
    "Strings also support a large number of [type-specific methods](https://docs.python.org/3/library/stdtypes.html#string-methods)."
   ]
  },
  {
   "cell_type": "code",
   "execution_count": null,
   "metadata": {},
   "outputs": [],
   "source": [
    "(\n",
    "    ' Welcome to CS 331 '.center(80, '#'),\n",
    "    'Hello!'.ljust(80, '-'),\n",
    "    'data structures and algorithms'.upper(),\n",
    "    '         Remove spaces before and after        '.strip(),  \n",
    "    ' # '.join(('Add', 'some', 'hashtags'))\n",
    ")"
   ]
  },
  {
   "cell_type": "markdown",
   "metadata": {},
   "source": [
    "### Format Strings\n",
    "\n",
    "We frequently want to interpolate values found in variables or computed using expressions into strings. We can do this with *format strings*."
   ]
  },
  {
   "cell_type": "code",
   "execution_count": null,
   "metadata": {},
   "outputs": [],
   "source": [
    "noun = 'rainbow'\n",
    "verb = 'appeared'\n",
    "adjective = 'bright'\n",
    "adverb = 'colorful'\n",
    "number = 11\n",
    "\n",
    "sentence = f'A {adjective}, {adverb} {noun} {verb} today at {number} am.'\n",
    "\n",
    "print(sentence)"
   ]
  },
  {
   "cell_type": "markdown",
   "metadata": {},
   "source": [
    "We can also use the `format` string method."
   ]
  },
  {
   "cell_type": "code",
   "execution_count": null,
   "metadata": {},
   "outputs": [],
   "source": [
    "sentence = 'A {}, {} {} {} today at {} am.'.format(adjective, noun, adverb, verb, number)\n",
    "\n",
    "print(sentence)"
   ]
  },
  {
   "cell_type": "markdown",
   "metadata": {},
   "source": [
    "### Type \"Conversions\""
   ]
  },
  {
   "cell_type": "markdown",
   "metadata": {},
   "source": [
    "Constructors for most built-in types exist that create values of those types from other types:"
   ]
  },
  {
   "cell_type": "code",
   "execution_count": null,
   "metadata": {},
   "outputs": [],
   "source": [
    "(\n",
    "    # making ints\n",
    "    int('123'),\n",
    "    int(12.3),\n",
    "    float(True),\n",
    "\n",
    "    # strings\n",
    "    str(123)\n",
    ")"
   ]
  },
  {
   "cell_type": "markdown",
   "metadata": {},
   "source": [
    "### Operators/Functions as syntactic sugar for special methods"
   ]
  },
  {
   "cell_type": "code",
   "execution_count": null,
   "metadata": {},
   "outputs": [],
   "source": [
    "a = 5\n",
    "b = 6\n",
    "a + b"
   ]
  },
  {
   "cell_type": "code",
   "execution_count": null,
   "metadata": {},
   "outputs": [],
   "source": [
    "a.__add__(b)"
   ]
  },
  {
   "cell_type": "code",
   "execution_count": null,
   "metadata": {},
   "outputs": [],
   "source": [
    "(\n",
    "    'hello' + 'world',\n",
    "    'hello'.__add__('world')\n",
    ")"
   ]
  },
  {
   "cell_type": "code",
   "execution_count": null,
   "metadata": {},
   "outputs": [],
   "source": [
    "class Adding:\n",
    "    def __init__(self, val):\n",
    "        self.val = val\n",
    "        \n",
    "    def __add__(self, other):\n",
    "        return Adding(self.val + ' and ' + other.val)\n",
    "    \n",
    "    def __repr__(self):\n",
    "        return self.val"
   ]
  },
  {
   "cell_type": "markdown",
   "metadata": {},
   "source": [
    "**self** represents the instance of the class. By using the **self**  we can access the attributes and methods of the class in Python. It binds the attributes with the given arguments.\n",
    "\n",
    "**\\_\\_init\\_\\_** is called every time an object is created from a class. The **\\_\\_init\\_\\_** method lets the class initialize the object's attributes.\n",
    "\n",
    "**\\_\\_repr\\_\\_** returns a printable representation of the object."
   ]
  },
  {
   "cell_type": "code",
   "execution_count": null,
   "metadata": {},
   "outputs": [],
   "source": [
    "a1 = Adding('Data Structures')\n",
    "a2 = Adding('Algorithms')\n",
    "# a1.__add__(a2)"
   ]
  },
  {
   "cell_type": "code",
   "execution_count": null,
   "metadata": {},
   "outputs": [],
   "source": [
    "a1 + a2"
   ]
  },
  {
   "cell_type": "code",
   "execution_count": null,
   "metadata": {},
   "outputs": [],
   "source": [
    "(\n",
    "    len('hello world'),\n",
    "    'hello world'.__len__(),\n",
    "    abs(-42),\n",
    "    (-42).__abs__()\n",
    ")"
   ]
  },
  {
   "cell_type": "markdown",
   "metadata": {},
   "source": [
    "### `None`"
   ]
  },
  {
   "cell_type": "markdown",
   "metadata": {},
   "source": [
    "**`None`** is like \"null\" in other languages"
   ]
  },
  {
   "cell_type": "code",
   "execution_count": null,
   "metadata": {},
   "outputs": [],
   "source": [
    "# often use as a default, initial, or \"sentinel\" value\n",
    "\n",
    "x = None"
   ]
  },
  {
   "cell_type": "markdown",
   "metadata": {},
   "source": [
    "note: notebooks do not display the result of expressions that evaluate to None"
   ]
  },
  {
   "cell_type": "code",
   "execution_count": null,
   "metadata": {},
   "outputs": [],
   "source": [
    "x"
   ]
  },
  {
   "cell_type": "code",
   "execution_count": null,
   "metadata": {},
   "outputs": [],
   "source": [
    "print(x)"
   ]
  },
  {
   "cell_type": "markdown",
   "metadata": {},
   "source": [
    "Functions that don't appear to return anything technically return `None`"
   ]
  },
  {
   "cell_type": "markdown",
   "metadata": {},
   "source": [
    "### \"Truthness\""
   ]
  },
  {
   "cell_type": "markdown",
   "metadata": {},
   "source": [
    "All objects in Python can be evaluated in a Boolean context (e.g., as the condition for an `if` statement). Values for most types act as `True`, but some act (conveniently, usually) as `False`."
   ]
  },
  {
   "cell_type": "code",
   "execution_count": null,
   "metadata": {},
   "outputs": [],
   "source": [
    "x = 0\n",
    "bool(x)"
   ]
  },
  {
   "cell_type": "code",
   "execution_count": null,
   "metadata": {},
   "outputs": [],
   "source": []
  }
 ],
 "metadata": {
  "kernelspec": {
   "display_name": "Python 3 (ipykernel)",
   "language": "python",
   "name": "python3"
  },
  "language_info": {
   "codemirror_mode": {
    "name": "ipython",
    "version": 3
   },
   "file_extension": ".py",
   "mimetype": "text/x-python",
   "name": "python",
   "nbconvert_exporter": "python",
   "pygments_lexer": "ipython3",
   "version": "3.11.4"
  }
 },
 "nbformat": 4,
 "nbformat_minor": 4
}
